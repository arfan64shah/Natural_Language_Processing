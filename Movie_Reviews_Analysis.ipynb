{
 "cells": [
  {
   "cell_type": "code",
   "execution_count": 1,
   "id": "b1970d4c-d333-47db-ac4c-32b10d540b60",
   "metadata": {},
   "outputs": [],
   "source": [
    "# import required libraries\n",
    "import pandas as pd\n",
    "import numpy as np\n",
    "import re"
   ]
  },
  {
   "cell_type": "code",
   "execution_count": 2,
   "id": "4a659b8d-1b31-4bfd-b4aa-13744b3767ca",
   "metadata": {},
   "outputs": [
    {
     "data": {
      "text/html": [
       "<div>\n",
       "<style scoped>\n",
       "    .dataframe tbody tr th:only-of-type {\n",
       "        vertical-align: middle;\n",
       "    }\n",
       "\n",
       "    .dataframe tbody tr th {\n",
       "        vertical-align: top;\n",
       "    }\n",
       "\n",
       "    .dataframe thead th {\n",
       "        text-align: right;\n",
       "    }\n",
       "</style>\n",
       "<table border=\"1\" class=\"dataframe\">\n",
       "  <thead>\n",
       "    <tr style=\"text-align: right;\">\n",
       "      <th></th>\n",
       "      <th>review</th>\n",
       "      <th>sentiment</th>\n",
       "    </tr>\n",
       "  </thead>\n",
       "  <tbody>\n",
       "    <tr>\n",
       "      <th>0</th>\n",
       "      <td>One of the other reviewers has mentioned that ...</td>\n",
       "      <td>positive</td>\n",
       "    </tr>\n",
       "    <tr>\n",
       "      <th>1</th>\n",
       "      <td>A wonderful little production. &lt;br /&gt;&lt;br /&gt;The...</td>\n",
       "      <td>positive</td>\n",
       "    </tr>\n",
       "    <tr>\n",
       "      <th>2</th>\n",
       "      <td>I thought this was a wonderful way to spend ti...</td>\n",
       "      <td>positive</td>\n",
       "    </tr>\n",
       "    <tr>\n",
       "      <th>3</th>\n",
       "      <td>Basically there's a family where a little boy ...</td>\n",
       "      <td>negative</td>\n",
       "    </tr>\n",
       "    <tr>\n",
       "      <th>4</th>\n",
       "      <td>Petter Mattei's \"Love in the Time of Money\" is...</td>\n",
       "      <td>positive</td>\n",
       "    </tr>\n",
       "  </tbody>\n",
       "</table>\n",
       "</div>"
      ],
      "text/plain": [
       "                                              review sentiment\n",
       "0  One of the other reviewers has mentioned that ...  positive\n",
       "1  A wonderful little production. <br /><br />The...  positive\n",
       "2  I thought this was a wonderful way to spend ti...  positive\n",
       "3  Basically there's a family where a little boy ...  negative\n",
       "4  Petter Mattei's \"Love in the Time of Money\" is...  positive"
      ]
     },
     "execution_count": 2,
     "metadata": {},
     "output_type": "execute_result"
    }
   ],
   "source": [
    "# load and read dataset\n",
    "dataset = pd.read_csv('IMDB Dataset.csv')\n",
    "dataset.head()"
   ]
  },
  {
   "cell_type": "code",
   "execution_count": 3,
   "id": "7565595b-6285-44eb-a1ea-25bf6bd3b742",
   "metadata": {},
   "outputs": [
    {
     "data": {
      "text/plain": [
       "(50000, 2)"
      ]
     },
     "execution_count": 3,
     "metadata": {},
     "output_type": "execute_result"
    }
   ],
   "source": [
    "# find shape of dataset\n",
    "dataset.shape"
   ]
  },
  {
   "cell_type": "code",
   "execution_count": 4,
   "id": "a556693b-3cca-4c53-83e3-8dd522c610a0",
   "metadata": {},
   "outputs": [
    {
     "data": {
      "text/plain": [
       "'A wonderful little production. <br /><br />The filming technique is very unassuming- very old-time-BBC fashion and gives a comforting, and sometimes discomforting, sense of realism to the entire piece. <br /><br />The actors are extremely well chosen- Michael Sheen not only \"has got all the polari\" but he has all the voices down pat too! You can truly see the seamless editing guided by the references to Williams\\' diary entries, not only is it well worth the watching but it is a terrificly written and performed piece. A masterful production about one of the great master\\'s of comedy and his life. <br /><br />The realism really comes home with the little things: the fantasy of the guard which, rather than use the traditional \\'dream\\' techniques remains solid then disappears. It plays on our knowledge and our senses, particularly with the scenes concerning Orton and Halliwell and the sets (particularly of their flat with Halliwell\\'s murals decorating every surface) are terribly well done.'"
      ]
     },
     "execution_count": 4,
     "metadata": {},
     "output_type": "execute_result"
    }
   ],
   "source": [
    "# show first review\n",
    "dataset['review'][1]"
   ]
  },
  {
   "cell_type": "markdown",
   "id": "3969c0a3-c7a3-4a0d-8173-fcdcaffa2e30",
   "metadata": {},
   "source": [
    "### Lower Case"
   ]
  },
  {
   "cell_type": "code",
   "execution_count": 5,
   "id": "146d324a-fb5d-47cd-a7c7-dd2fbb3a73ff",
   "metadata": {},
   "outputs": [
    {
     "data": {
      "text/plain": [
       "'a wonderful little production. <br /><br />the filming technique is very unassuming- very old-time-bbc fashion and gives a comforting, and sometimes discomforting, sense of realism to the entire piece. <br /><br />the actors are extremely well chosen- michael sheen not only \"has got all the polari\" but he has all the voices down pat too! you can truly see the seamless editing guided by the references to williams\\' diary entries, not only is it well worth the watching but it is a terrificly written and performed piece. a masterful production about one of the great master\\'s of comedy and his life. <br /><br />the realism really comes home with the little things: the fantasy of the guard which, rather than use the traditional \\'dream\\' techniques remains solid then disappears. it plays on our knowledge and our senses, particularly with the scenes concerning orton and halliwell and the sets (particularly of their flat with halliwell\\'s murals decorating every surface) are terribly well done.'"
      ]
     },
     "execution_count": 5,
     "metadata": {},
     "output_type": "execute_result"
    }
   ],
   "source": [
    "#  convert first review into lowe case\n",
    "dataset['review'][1].lower()"
   ]
  },
  {
   "cell_type": "code",
   "execution_count": 6,
   "id": "fba7260d-af14-4fdb-bf5b-09884b83e3c9",
   "metadata": {},
   "outputs": [],
   "source": [
    "# now change into lower case the whole review column\n",
    "dataset['review'] = dataset['review'].str.lower()"
   ]
  },
  {
   "cell_type": "code",
   "execution_count": 7,
   "id": "ad05a161-20da-4118-98b1-7b1ee82371b7",
   "metadata": {},
   "outputs": [
    {
     "data": {
      "text/html": [
       "<div>\n",
       "<style scoped>\n",
       "    .dataframe tbody tr th:only-of-type {\n",
       "        vertical-align: middle;\n",
       "    }\n",
       "\n",
       "    .dataframe tbody tr th {\n",
       "        vertical-align: top;\n",
       "    }\n",
       "\n",
       "    .dataframe thead th {\n",
       "        text-align: right;\n",
       "    }\n",
       "</style>\n",
       "<table border=\"1\" class=\"dataframe\">\n",
       "  <thead>\n",
       "    <tr style=\"text-align: right;\">\n",
       "      <th></th>\n",
       "      <th>review</th>\n",
       "      <th>sentiment</th>\n",
       "    </tr>\n",
       "  </thead>\n",
       "  <tbody>\n",
       "    <tr>\n",
       "      <th>0</th>\n",
       "      <td>one of the other reviewers has mentioned that ...</td>\n",
       "      <td>positive</td>\n",
       "    </tr>\n",
       "    <tr>\n",
       "      <th>1</th>\n",
       "      <td>a wonderful little production. &lt;br /&gt;&lt;br /&gt;the...</td>\n",
       "      <td>positive</td>\n",
       "    </tr>\n",
       "    <tr>\n",
       "      <th>2</th>\n",
       "      <td>i thought this was a wonderful way to spend ti...</td>\n",
       "      <td>positive</td>\n",
       "    </tr>\n",
       "    <tr>\n",
       "      <th>3</th>\n",
       "      <td>basically there's a family where a little boy ...</td>\n",
       "      <td>negative</td>\n",
       "    </tr>\n",
       "    <tr>\n",
       "      <th>4</th>\n",
       "      <td>petter mattei's \"love in the time of money\" is...</td>\n",
       "      <td>positive</td>\n",
       "    </tr>\n",
       "  </tbody>\n",
       "</table>\n",
       "</div>"
      ],
      "text/plain": [
       "                                              review sentiment\n",
       "0  one of the other reviewers has mentioned that ...  positive\n",
       "1  a wonderful little production. <br /><br />the...  positive\n",
       "2  i thought this was a wonderful way to spend ti...  positive\n",
       "3  basically there's a family where a little boy ...  negative\n",
       "4  petter mattei's \"love in the time of money\" is...  positive"
      ]
     },
     "execution_count": 7,
     "metadata": {},
     "output_type": "execute_result"
    }
   ],
   "source": [
    "# now read dataset\n",
    "dataset.head()"
   ]
  },
  {
   "cell_type": "code",
   "execution_count": 8,
   "id": "a3cab0d2-ee3c-45a7-bf07-dfeaf255853a",
   "metadata": {},
   "outputs": [
    {
     "data": {
      "text/plain": [
       "'first off i want to say that i lean liberal on the political scale and i found the movie offensive. i managed to watch the whole doggone disgrace of a film . this movie brings a low to original ideas. yes it was original thus my 2 stars instead of 1. are our film writers that uncreative that they can only come up with this?? acting was horrible , and the characters were unlikeable for the most part. the lead lady in the story had no good qualities at all. they made her bf into some sort of a bad guy and i did not see that at all. maybe i missed something , i do not know.he was the most down to earth, relevant character in the movie. i did not shell out any money for this garbage. i almost wish peta would come to the rescue of this awful, offensive movie and form a protest. disgusting thats all i have to say anymore !'"
      ]
     },
     "execution_count": 8,
     "metadata": {},
     "output_type": "execute_result"
    }
   ],
   "source": [
    "dataset['review'][40000]"
   ]
  },
  {
   "cell_type": "markdown",
   "id": "52d83337-3478-41c4-b438-81d29bac6489",
   "metadata": {},
   "source": [
    "### Remove HTML Tags"
   ]
  },
  {
   "cell_type": "code",
   "execution_count": 9,
   "id": "d8eef1fa-652a-4c40-a271-656032defa80",
   "metadata": {},
   "outputs": [
    {
     "data": {
      "text/plain": [
       "'a wonderful little production. the filming technique is very unassuming- very old-time-bbc fashion and gives a comforting, and sometimes discomforting, sense of realism to the entire piece. the actors are extremely well chosen- michael sheen not only \"has got all the polari\" but he has all the voices down pat too! you can truly see the seamless editing guided by the references to williams\\' diary entries, not only is it well worth the watching but it is a terrificly written and performed piece. a masterful production about one of the great master\\'s of comedy and his life. the realism really comes home with the little things: the fantasy of the guard which, rather than use the traditional \\'dream\\' techniques remains solid then disappears. it plays on our knowledge and our senses, particularly with the scenes concerning orton and halliwell and the sets (particularly of their flat with halliwell\\'s murals decorating every surface) are terribly well done.'"
      ]
     },
     "execution_count": 9,
     "metadata": {},
     "output_type": "execute_result"
    }
   ],
   "source": [
    "# define a function to remove html tags\n",
    "list = []\n",
    "for i in dataset['review']:\n",
    "    pattern = '<.*?>'\n",
    "    new_text = re.sub(pattern, '', i)\n",
    "    list.append(new_text)\n",
    "list[1]"
   ]
  },
  {
   "cell_type": "code",
   "execution_count": 10,
   "id": "74dc7ac5-cbaf-4296-80bd-7e4ad26cb156",
   "metadata": {},
   "outputs": [],
   "source": [
    "dataset['review'] = list"
   ]
  },
  {
   "cell_type": "code",
   "execution_count": 11,
   "id": "525766d2-db6b-465e-8c66-d9e0d3357928",
   "metadata": {},
   "outputs": [
    {
     "data": {
      "text/plain": [
       "'a wonderful little production. the filming technique is very unassuming- very old-time-bbc fashion and gives a comforting, and sometimes discomforting, sense of realism to the entire piece. the actors are extremely well chosen- michael sheen not only \"has got all the polari\" but he has all the voices down pat too! you can truly see the seamless editing guided by the references to williams\\' diary entries, not only is it well worth the watching but it is a terrificly written and performed piece. a masterful production about one of the great master\\'s of comedy and his life. the realism really comes home with the little things: the fantasy of the guard which, rather than use the traditional \\'dream\\' techniques remains solid then disappears. it plays on our knowledge and our senses, particularly with the scenes concerning orton and halliwell and the sets (particularly of their flat with halliwell\\'s murals decorating every surface) are terribly well done.'"
      ]
     },
     "execution_count": 11,
     "metadata": {},
     "output_type": "execute_result"
    }
   ],
   "source": [
    "dataset['review'][1]"
   ]
  },
  {
   "cell_type": "code",
   "execution_count": 12,
   "id": "08623841-eccf-4e26-b754-74b42e790332",
   "metadata": {},
   "outputs": [
    {
     "data": {
      "text/html": [
       "<div>\n",
       "<style scoped>\n",
       "    .dataframe tbody tr th:only-of-type {\n",
       "        vertical-align: middle;\n",
       "    }\n",
       "\n",
       "    .dataframe tbody tr th {\n",
       "        vertical-align: top;\n",
       "    }\n",
       "\n",
       "    .dataframe thead th {\n",
       "        text-align: right;\n",
       "    }\n",
       "</style>\n",
       "<table border=\"1\" class=\"dataframe\">\n",
       "  <thead>\n",
       "    <tr style=\"text-align: right;\">\n",
       "      <th></th>\n",
       "      <th>review</th>\n",
       "      <th>sentiment</th>\n",
       "    </tr>\n",
       "  </thead>\n",
       "  <tbody>\n",
       "    <tr>\n",
       "      <th>0</th>\n",
       "      <td>one of the other reviewers has mentioned that ...</td>\n",
       "      <td>positive</td>\n",
       "    </tr>\n",
       "    <tr>\n",
       "      <th>1</th>\n",
       "      <td>a wonderful little production. the filming tec...</td>\n",
       "      <td>positive</td>\n",
       "    </tr>\n",
       "    <tr>\n",
       "      <th>2</th>\n",
       "      <td>i thought this was a wonderful way to spend ti...</td>\n",
       "      <td>positive</td>\n",
       "    </tr>\n",
       "    <tr>\n",
       "      <th>3</th>\n",
       "      <td>basically there's a family where a little boy ...</td>\n",
       "      <td>negative</td>\n",
       "    </tr>\n",
       "    <tr>\n",
       "      <th>4</th>\n",
       "      <td>petter mattei's \"love in the time of money\" is...</td>\n",
       "      <td>positive</td>\n",
       "    </tr>\n",
       "  </tbody>\n",
       "</table>\n",
       "</div>"
      ],
      "text/plain": [
       "                                              review sentiment\n",
       "0  one of the other reviewers has mentioned that ...  positive\n",
       "1  a wonderful little production. the filming tec...  positive\n",
       "2  i thought this was a wonderful way to spend ti...  positive\n",
       "3  basically there's a family where a little boy ...  negative\n",
       "4  petter mattei's \"love in the time of money\" is...  positive"
      ]
     },
     "execution_count": 12,
     "metadata": {},
     "output_type": "execute_result"
    }
   ],
   "source": [
    "dataset.head()"
   ]
  },
  {
   "cell_type": "markdown",
   "id": "0d54b3d1-a70c-4f26-b552-ccc7090cfe04",
   "metadata": {},
   "source": [
    "### Remove Links"
   ]
  },
  {
   "cell_type": "code",
   "execution_count": 15,
   "id": "10ae5a07-2a9b-4005-b371-2c98621efd34",
   "metadata": {},
   "outputs": [
    {
     "data": {
      "text/plain": [
       "'i downloaded this movie from this website  i found that movie very interesting. This link  is also famous'"
      ]
     },
     "execution_count": 15,
     "metadata": {},
     "output_type": "execute_result"
    }
   ],
   "source": [
    "text = 'i downloaded this movie from this website https://www.movies.com. i found that movie very interesting. This link www.google.com is also famous'\n",
    "\n",
    "def remove_links(text):\n",
    "    pattern = 'https?://\\S+|www\\.\\S+|\\b\\w+\\.(com|net|org|edu)\\b'\n",
    "    new_text = re.sub(pattern, '', text)\n",
    "    return new_text\n",
    "remove_links(text)"
   ]
  },
  {
   "cell_type": "markdown",
   "id": "4d48d8ec-27eb-426c-be55-3dbfc5d7a2e2",
   "metadata": {},
   "source": [
    "### Remove punctuation"
   ]
  },
  {
   "cell_type": "code",
   "execution_count": 20,
   "id": "a53d5922-ee2c-4af7-9d60-5a8af456e148",
   "metadata": {},
   "outputs": [
    {
     "data": {
      "text/plain": [
       "'petter mattei\\'s \"love in the time of money\" is a visually stunning film to watch. mr. mattei offers us a vivid portrait about human relations. this is a movie that seems to be telling us what money, power and success do to people in the different situations we encounter. this being a variation on the arthur schnitzler\\'s play about the same theme, the director transfers the action to the present time new york where all these different characters meet and connect. each one is connected in one way, or another to the next person, but no one seems to know the previous point of contact. stylishly, the film has a sophisticated luxurious look. we are taken to see how these people live and the world they live in their own habitat.the only thing one gets out of all these souls in the picture is the different stages of loneliness each one inhabits. a big city is not exactly the best place in which human relations find sincere fulfillment, as one discerns is the case with most of the people we encounter.the acting is good under mr. mattei\\'s direction. steve buscemi, rosario dawson, carol kane, michael imperioli, adrian grenier, and the rest of the talented cast, make these characters come alive.we wish mr. mattei good luck and await anxiously for his next work.'"
      ]
     },
     "execution_count": 20,
     "metadata": {},
     "output_type": "execute_result"
    }
   ],
   "source": [
    "dataset['review'][4]"
   ]
  },
  {
   "cell_type": "code",
   "execution_count": 24,
   "id": "795953d7-9c8c-4147-bccf-80661689fcfb",
   "metadata": {},
   "outputs": [
    {
     "data": {
      "text/plain": [
       "'!\"#$%&\\'()*+,-./:;<=>?@[\\\\]^_`{|}~'"
      ]
     },
     "execution_count": 24,
     "metadata": {},
     "output_type": "execute_result"
    }
   ],
   "source": [
    "import string, time\n",
    "\n",
    "string.punctuation"
   ]
  },
  {
   "cell_type": "code",
   "execution_count": 27,
   "id": "a8e9296d-3b7a-420e-a326-81fb3c70c274",
   "metadata": {},
   "outputs": [],
   "source": [
    "# store punctuation in a variable\n",
    "punc = string.punctuation\n",
    "\n",
    "text = dataset['review'][4]\n",
    "\n",
    "# loop through punc and remove them from text above\n",
    "def remove_punc(text):\n",
    "    for x in punc:\n",
    "        text = text.replace(x, '')\n",
    "    return text"
   ]
  },
  {
   "cell_type": "code",
   "execution_count": 28,
   "id": "f55ea2d9-2356-4f1e-a801-56fe7eaf6307",
   "metadata": {},
   "outputs": [
    {
     "data": {
      "text/plain": [
       "'petter matteis love in the time of money is a visually stunning film to watch mr mattei offers us a vivid portrait about human relations this is a movie that seems to be telling us what money power and success do to people in the different situations we encounter this being a variation on the arthur schnitzlers play about the same theme the director transfers the action to the present time new york where all these different characters meet and connect each one is connected in one way or another to the next person but no one seems to know the previous point of contact stylishly the film has a sophisticated luxurious look we are taken to see how these people live and the world they live in their own habitatthe only thing one gets out of all these souls in the picture is the different stages of loneliness each one inhabits a big city is not exactly the best place in which human relations find sincere fulfillment as one discerns is the case with most of the people we encounterthe acting is good under mr matteis direction steve buscemi rosario dawson carol kane michael imperioli adrian grenier and the rest of the talented cast make these characters come alivewe wish mr mattei good luck and await anxiously for his next work'"
      ]
     },
     "execution_count": 28,
     "metadata": {},
     "output_type": "execute_result"
    }
   ],
   "source": [
    "remove_punc(text)"
   ]
  },
  {
   "cell_type": "code",
   "execution_count": 46,
   "id": "8148de94-ac57-4b80-b16d-a61535b54fff",
   "metadata": {},
   "outputs": [],
   "source": [
    "# loop through reviews column of whole dataset\n",
    "punc = string.punctuation\n",
    "list = []\n",
    "for i in dataset['review']:\n",
    "    # loop through punc and remove them from text above\n",
    "    for x in punc:\n",
    "        i = i.replace(x, '')\n",
    "    list.append(i)"
   ]
  },
  {
   "cell_type": "code",
   "execution_count": 47,
   "id": "e9f34a13-fc75-425c-8da7-dbec62cc21e0",
   "metadata": {},
   "outputs": [
    {
     "data": {
      "text/plain": [
       "50000"
      ]
     },
     "execution_count": 47,
     "metadata": {},
     "output_type": "execute_result"
    }
   ],
   "source": [
    "len(dataset['review'])"
   ]
  },
  {
   "cell_type": "code",
   "execution_count": 48,
   "id": "d1337c03-a234-46ce-b4a7-b9dcbbfcc6f8",
   "metadata": {},
   "outputs": [
    {
     "data": {
      "text/plain": [
       "32"
      ]
     },
     "execution_count": 48,
     "metadata": {},
     "output_type": "execute_result"
    }
   ],
   "source": [
    "len(punc)"
   ]
  },
  {
   "cell_type": "code",
   "execution_count": 49,
   "id": "742f517a-a216-415f-9d3f-525379ca95d5",
   "metadata": {},
   "outputs": [
    {
     "data": {
      "text/plain": [
       "160"
      ]
     },
     "execution_count": 49,
     "metadata": {},
     "output_type": "execute_result"
    }
   ],
   "source": [
    "5*32"
   ]
  },
  {
   "cell_type": "code",
   "execution_count": 50,
   "id": "9a366c71-dc91-4125-bf4f-e60a0bf45b8c",
   "metadata": {},
   "outputs": [
    {
     "data": {
      "text/plain": [
       "50000"
      ]
     },
     "execution_count": 50,
     "metadata": {},
     "output_type": "execute_result"
    }
   ],
   "source": [
    "len(list)"
   ]
  },
  {
   "cell_type": "code",
   "execution_count": 51,
   "id": "bef9d6e4-0c7c-41e3-8832-1cab10db1918",
   "metadata": {},
   "outputs": [],
   "source": [
    "# now assign list to dataset\n",
    "dataset['review'] = list"
   ]
  },
  {
   "cell_type": "code",
   "execution_count": 52,
   "id": "2feb535a-c9ef-43d3-a2d5-534449044792",
   "metadata": {},
   "outputs": [
    {
     "data": {
      "text/html": [
       "<div>\n",
       "<style scoped>\n",
       "    .dataframe tbody tr th:only-of-type {\n",
       "        vertical-align: middle;\n",
       "    }\n",
       "\n",
       "    .dataframe tbody tr th {\n",
       "        vertical-align: top;\n",
       "    }\n",
       "\n",
       "    .dataframe thead th {\n",
       "        text-align: right;\n",
       "    }\n",
       "</style>\n",
       "<table border=\"1\" class=\"dataframe\">\n",
       "  <thead>\n",
       "    <tr style=\"text-align: right;\">\n",
       "      <th></th>\n",
       "      <th>review</th>\n",
       "      <th>sentiment</th>\n",
       "    </tr>\n",
       "  </thead>\n",
       "  <tbody>\n",
       "    <tr>\n",
       "      <th>0</th>\n",
       "      <td>one of the other reviewers has mentioned that ...</td>\n",
       "      <td>positive</td>\n",
       "    </tr>\n",
       "    <tr>\n",
       "      <th>1</th>\n",
       "      <td>a wonderful little production the filming tech...</td>\n",
       "      <td>positive</td>\n",
       "    </tr>\n",
       "    <tr>\n",
       "      <th>2</th>\n",
       "      <td>i thought this was a wonderful way to spend ti...</td>\n",
       "      <td>positive</td>\n",
       "    </tr>\n",
       "    <tr>\n",
       "      <th>3</th>\n",
       "      <td>basically theres a family where a little boy j...</td>\n",
       "      <td>negative</td>\n",
       "    </tr>\n",
       "    <tr>\n",
       "      <th>4</th>\n",
       "      <td>petter matteis love in the time of money is a ...</td>\n",
       "      <td>positive</td>\n",
       "    </tr>\n",
       "  </tbody>\n",
       "</table>\n",
       "</div>"
      ],
      "text/plain": [
       "                                              review sentiment\n",
       "0  one of the other reviewers has mentioned that ...  positive\n",
       "1  a wonderful little production the filming tech...  positive\n",
       "2  i thought this was a wonderful way to spend ti...  positive\n",
       "3  basically theres a family where a little boy j...  negative\n",
       "4  petter matteis love in the time of money is a ...  positive"
      ]
     },
     "execution_count": 52,
     "metadata": {},
     "output_type": "execute_result"
    }
   ],
   "source": [
    "dataset.head()"
   ]
  },
  {
   "cell_type": "code",
   "execution_count": 59,
   "id": "96c87077-f4f2-4cde-a1bd-55a682fd4fda",
   "metadata": {},
   "outputs": [
    {
     "data": {
      "text/plain": [
       "['AFAIK: As Far As I Know\\n',\n",
       " 'AFK: Away From Keyboard\\n',\n",
       " 'ASAP: As Soon As Possible\\n',\n",
       " 'ATK: At The Keyboard\\n',\n",
       " 'ATM: At The Moment\\n',\n",
       " 'A3: Anytime, Anywhere, Anyplace\\n',\n",
       " 'BAK: Back At Keyboard\\n',\n",
       " 'BBL: Be Back Later\\n',\n",
       " 'BBS: Be Back Soon\\n',\n",
       " 'BFN: Bye For Now\\n',\n",
       " 'B4N: Bye For Now\\n',\n",
       " 'BRB: Be Right Back\\n',\n",
       " 'BRT: Be Right There\\n',\n",
       " 'BTW: By The Way\\n',\n",
       " 'B4: Before\\n',\n",
       " 'B4N: Bye For Now\\n',\n",
       " 'CU: See You\\n',\n",
       " 'CUL8R: See You Later\\n',\n",
       " 'CYA: See You\\n',\n",
       " 'FAQ: Frequently Asked Questions\\n',\n",
       " 'FC: Fingers Crossed\\n',\n",
       " \"FWIW: For What It's Worth\\n\",\n",
       " 'FYI: For Your Information\\n',\n",
       " 'GAL: Get A Life\\n',\n",
       " 'GG: Good Game\\n',\n",
       " 'GN: Good Night\\n',\n",
       " 'GMTA: Great Minds Think Alike\\n',\n",
       " 'GR8: Great!\\n',\n",
       " 'G9: Genius\\n',\n",
       " 'IC: I See\\n',\n",
       " 'ICQ: I Seek you (also a chat program)\\n',\n",
       " 'ILU: ILU: I Love You\\n',\n",
       " 'IMHO: In My Honest/Humble Opinion\\n',\n",
       " 'IMO: In My Opinion\\n',\n",
       " 'IOW: In Other Words\\n',\n",
       " 'IRL: In Real Life\\n',\n",
       " 'KISS: Keep It Simple, Stupid\\n',\n",
       " 'LDR: Long Distance Relationship\\n',\n",
       " 'LMAO: Laugh My A.. Off\\n',\n",
       " 'LOL: Laughing Out Loud\\n',\n",
       " 'LTNS: Long Time No See\\n',\n",
       " 'L8R: Later\\n',\n",
       " 'MTE: My Thoughts Exactly\\n',\n",
       " 'M8: Mate\\n',\n",
       " 'NRN: No Reply Necessary\\n',\n",
       " 'OIC: Oh I See\\n',\n",
       " 'PITA: Pain In The A..\\n',\n",
       " 'PRT: Party\\n',\n",
       " 'PRW: Parents Are Watching\\n',\n",
       " 'QPSA?: Que Pasa?\\n',\n",
       " 'ROFL: Rolling On The Floor Laughing\\n',\n",
       " 'ROFLOL: Rolling On The Floor Laughing Out Loud\\n',\n",
       " 'ROTFLMAO: Rolling On The Floor Laughing My A.. Off\\n',\n",
       " 'SK8: Skate\\n',\n",
       " 'STATS: Your sex and age\\n',\n",
       " 'ASL: Age, Sex, Location\\n',\n",
       " 'THX: Thank You\\n',\n",
       " 'TTFN: Ta-Ta For Now!\\n',\n",
       " 'TTYL: Talk To You Later\\n',\n",
       " 'U: You\\n',\n",
       " 'U2: You Too\\n',\n",
       " 'U4E: Yours For Ever\\n',\n",
       " 'WB: Welcome Back\\n',\n",
       " 'WTF: What The F...\\n',\n",
       " 'WTG: Way To Go!\\n',\n",
       " 'WUF: Where Are You From?\\n',\n",
       " 'W8: Wait...\\n',\n",
       " '7K: Sick:-D Laugher\\n',\n",
       " 'TFW: That feeling when. TFW internet slang often goes in a caption to an image.\\n',\n",
       " 'MFW: My face when\\n',\n",
       " 'MRW: My reaction when\\n',\n",
       " 'IFYP: I feel your pain\\n',\n",
       " 'LOL: Laughing out loud\\n',\n",
       " 'TNTL: Trying not to laugh\\n',\n",
       " 'JK: Just kidding\\n',\n",
       " 'IDC: I donâ€™t care\\n',\n",
       " 'ILY: I love you\\n',\n",
       " 'IMU: I miss you\\n',\n",
       " 'ADIH: Another day in hell\\n',\n",
       " 'IDC: I donâ€™t care\\n',\n",
       " 'ZZZ: Sleeping, bored, tired\\n',\n",
       " 'WYWH: Wish you were here\\n',\n",
       " 'TIME: Tears in my eyes\\n',\n",
       " 'BAE: Before anyone else\\n',\n",
       " 'FIMH: Forever in my heart\\n',\n",
       " 'BSAAW: Big smile and a wink\\n',\n",
       " 'BWL: Bursting with laughter\\n',\n",
       " 'LMAO: Laughing my a** off\\n',\n",
       " 'BFF: Best friends forever\\n',\n",
       " 'CSL: Canâ€™t stop laughing\\n']"
      ]
     },
     "execution_count": 59,
     "metadata": {},
     "output_type": "execute_result"
    }
   ],
   "source": [
    "# read a txt file\n",
    "with open('slang.txt', 'r') as file:\n",
    "    text_data = file.readlines()\n",
    "text_data"
   ]
  },
  {
   "cell_type": "code",
   "execution_count": 60,
   "id": "db60d959-99c1-403a-a325-19595d90bee4",
   "metadata": {},
   "outputs": [
    {
     "data": {
      "text/plain": [
       "90"
      ]
     },
     "execution_count": 60,
     "metadata": {},
     "output_type": "execute_result"
    }
   ],
   "source": [
    "# calculate length\n",
    "len(text_data)"
   ]
  },
  {
   "cell_type": "code",
   "execution_count": 65,
   "id": "f13f06f1-e665-4adc-91bc-7e40641870b5",
   "metadata": {},
   "outputs": [
    {
     "data": {
      "text/plain": [
       "{'AFAIK': 'As Far As I Know',\n",
       " 'AFK': 'Away From Keyboard',\n",
       " 'ASAP': 'As Soon As Possible',\n",
       " 'ATK': 'At The Keyboard',\n",
       " 'ATM': 'At The Moment',\n",
       " 'A3': 'Anytime, Anywhere, Anyplace',\n",
       " 'BAK': 'Back At Keyboard',\n",
       " 'BBL': 'Be Back Later',\n",
       " 'BBS': 'Be Back Soon',\n",
       " 'BFN': 'Bye For Now',\n",
       " 'B4N': 'Bye For Now',\n",
       " 'BRB': 'Be Right Back',\n",
       " 'BRT': 'Be Right There',\n",
       " 'BTW': 'By The Way',\n",
       " 'B4': 'Before',\n",
       " 'CU': 'See You',\n",
       " 'CUL8R': 'See You Later',\n",
       " 'CYA': 'See You',\n",
       " 'FAQ': 'Frequently Asked Questions',\n",
       " 'FC': 'Fingers Crossed',\n",
       " 'FWIW': \"For What It's Worth\",\n",
       " 'FYI': 'For Your Information',\n",
       " 'GAL': 'Get A Life',\n",
       " 'GG': 'Good Game',\n",
       " 'GN': 'Good Night',\n",
       " 'GMTA': 'Great Minds Think Alike',\n",
       " 'GR8': 'Great!',\n",
       " 'G9': 'Genius',\n",
       " 'IC': 'I See',\n",
       " 'ICQ': 'I Seek you (also a chat program)',\n",
       " 'ILU': 'I Love You',\n",
       " 'IMHO': 'In My Honest/Humble Opinion',\n",
       " 'IMO': 'In My Opinion',\n",
       " 'IOW': 'In Other Words',\n",
       " 'IRL': 'In Real Life',\n",
       " 'KISS': 'Keep It Simple, Stupid',\n",
       " 'LDR': 'Long Distance Relationship',\n",
       " 'LMAO': 'Laughing my a** off',\n",
       " 'LOL': 'Laughing out loud',\n",
       " 'LTNS': 'Long Time No See',\n",
       " 'L8R': 'Later',\n",
       " 'MTE': 'My Thoughts Exactly',\n",
       " 'M8': 'Mate',\n",
       " 'NRN': 'No Reply Necessary',\n",
       " 'OIC': 'Oh I See',\n",
       " 'PITA': 'Pain In The A..',\n",
       " 'PRT': 'Party',\n",
       " 'PRW': 'Parents Are Watching',\n",
       " 'QPSA?': 'Que Pasa?',\n",
       " 'ROFL': 'Rolling On The Floor Laughing',\n",
       " 'ROFLOL': 'Rolling On The Floor Laughing Out Loud',\n",
       " 'ROTFLMAO': 'Rolling On The Floor Laughing My A.. Off',\n",
       " 'SK8': 'Skate',\n",
       " 'STATS': 'Your sex and age',\n",
       " 'ASL': 'Age, Sex, Location',\n",
       " 'THX': 'Thank You',\n",
       " 'TTFN': 'Ta-Ta For Now!',\n",
       " 'TTYL': 'Talk To You Later',\n",
       " 'U': 'You',\n",
       " 'U2': 'You Too',\n",
       " 'U4E': 'Yours For Ever',\n",
       " 'WB': 'Welcome Back',\n",
       " 'WTF': 'What The F...',\n",
       " 'WTG': 'Way To Go!',\n",
       " 'WUF': 'Where Are You From?',\n",
       " 'W8': 'Wait...',\n",
       " '7K': 'Sick D Laugher',\n",
       " 'TFW': 'That feeling when. TFW internet slang often goes in a caption to an image.',\n",
       " 'MFW': 'My face when',\n",
       " 'MRW': 'My reaction when',\n",
       " 'IFYP': 'I feel your pain',\n",
       " 'TNTL': 'Trying not to laugh',\n",
       " 'JK': 'Just kidding',\n",
       " 'IDC': 'I donâ€™t care',\n",
       " 'ILY': 'I love you',\n",
       " 'IMU': 'I miss you',\n",
       " 'ADIH': 'Another day in hell',\n",
       " 'ZZZ': 'Sleeping, bored, tired',\n",
       " 'WYWH': 'Wish you were here',\n",
       " 'TIME': 'Tears in my eyes',\n",
       " 'BAE': 'Before anyone else',\n",
       " 'FIMH': 'Forever in my heart',\n",
       " 'BSAAW': 'Big smile and a wink',\n",
       " 'BWL': 'Bursting with laughter',\n",
       " 'BFF': 'Best friends forever',\n",
       " 'CSL': 'Canâ€™t stop laughing'}"
      ]
     },
     "execution_count": 65,
     "metadata": {},
     "output_type": "execute_result"
    }
   ],
   "source": [
    "def txt_to_dict(file_path):\n",
    "    result_dict = {}\n",
    "    with open(file_path, 'r') as file:\n",
    "        for line in file:\n",
    "            key, value = map(str.strip, line.split(':'))\n",
    "            result_dict[key] = value\n",
    "    return result_dict\n",
    "\n",
    "file_path = 'slang.txt'\n",
    "my_dict = txt_to_dict(file_path)\n",
    "my_dict"
   ]
  },
  {
   "cell_type": "code",
   "execution_count": 66,
   "id": "709d952a-0938-4e16-ab19-bc4791136644",
   "metadata": {},
   "outputs": [
    {
     "data": {
      "text/plain": [
       "86"
      ]
     },
     "execution_count": 66,
     "metadata": {},
     "output_type": "execute_result"
    }
   ],
   "source": [
    "# length of dicationary\n",
    "len(my_dict)"
   ]
  },
  {
   "cell_type": "code",
   "execution_count": 111,
   "id": "65863335-61f1-4413-af31-3aa3f7e5585c",
   "metadata": {},
   "outputs": [
    {
     "data": {
      "text/plain": [
       "<function dict.keys>"
      ]
     },
     "execution_count": 111,
     "metadata": {},
     "output_type": "execute_result"
    }
   ],
   "source": [
    "my_dict.keys"
   ]
  },
  {
   "cell_type": "code",
   "execution_count": 67,
   "id": "e116e6e0-730a-4a6c-849c-7f971fbdb7ae",
   "metadata": {},
   "outputs": [
    {
     "data": {
      "text/plain": [
       "'Canâ€™t stop laughing'"
      ]
     },
     "execution_count": 67,
     "metadata": {},
     "output_type": "execute_result"
    }
   ],
   "source": [
    "my_dict['CSL']"
   ]
  },
  {
   "cell_type": "code",
   "execution_count": 144,
   "id": "f06d2a7b-8ea9-4d87-99f0-c583d30924f2",
   "metadata": {},
   "outputs": [
    {
     "name": "stdout",
     "output_type": "stream",
     "text": [
      "['Contact', 'me', 'ASAP', 'I', 'am', 'going', 'to', 'sleep,', 'GN', 'We', 'can', 'be', 'BFF']\n",
      "['Contact', 'me', 'ASAP', 'I', 'am', 'going', 'to', 'sleep,', 'GN', 'We', 'can', 'be', 'BFF']\n"
     ]
    }
   ],
   "source": [
    "# use the above dicationary to replace short form in a text\n",
    "text = 'Contact me ASAP I am going to sleep, GN We can be BFF'\n",
    "\n",
    "words = text.split()\n",
    "print(words)\n",
    "print(words)\n",
    "def text_(words):\n",
    "    for word in words:\n",
    "        print(word)"
   ]
  },
  {
   "cell_type": "code",
   "execution_count": 145,
   "id": "c84ea34c-d8bc-46f6-a42a-89b7a8ef48ff",
   "metadata": {},
   "outputs": [
    {
     "name": "stdout",
     "output_type": "stream",
     "text": [
      "Contact\n",
      "me\n",
      "ASAP\n",
      "I\n",
      "am\n",
      "going\n",
      "to\n",
      "sleep,\n",
      "GN\n",
      "We\n",
      "can\n",
      "be\n",
      "BFF\n"
     ]
    }
   ],
   "source": [
    "text_(words)"
   ]
  },
  {
   "cell_type": "code",
   "execution_count": 146,
   "id": "8f3fb7ca-2427-44c7-9805-b381109f7c4a",
   "metadata": {},
   "outputs": [
    {
     "data": {
      "text/plain": [
       "['Contact',\n",
       " 'me',\n",
       " 'ASAP',\n",
       " 'I',\n",
       " 'am',\n",
       " 'going',\n",
       " 'to',\n",
       " 'sleep,',\n",
       " 'GN',\n",
       " 'We',\n",
       " 'can',\n",
       " 'be',\n",
       " 'BFF']"
      ]
     },
     "execution_count": 146,
     "metadata": {},
     "output_type": "execute_result"
    }
   ],
   "source": [
    "words"
   ]
  },
  {
   "cell_type": "code",
   "execution_count": 147,
   "id": "62c2d14b-6a6d-4c2b-8f8d-5e087815a011",
   "metadata": {},
   "outputs": [],
   "source": [
    "new_text = []\n",
    "def short_forms(words):\n",
    "    for word in words:\n",
    "        if word in my_dict:\n",
    "            new_text.append(my_dict[word])\n",
    "        else:\n",
    "            new_text.append(word)\n",
    "    return new_text"
   ]
  },
  {
   "cell_type": "code",
   "execution_count": 148,
   "id": "ddb211c0-2ef0-4d17-bf43-8d86c14a7ead",
   "metadata": {},
   "outputs": [
    {
     "data": {
      "text/plain": [
       "[]"
      ]
     },
     "execution_count": 148,
     "metadata": {},
     "output_type": "execute_result"
    }
   ],
   "source": [
    "new_text"
   ]
  },
  {
   "cell_type": "code",
   "execution_count": 149,
   "id": "113f7f32-f040-49e5-96af-1f5568d9c34e",
   "metadata": {},
   "outputs": [],
   "source": [
    "iii = short_forms(words)"
   ]
  },
  {
   "cell_type": "code",
   "execution_count": 150,
   "id": "c1a6598c-422f-4f51-96af-d80d9dd9d9a8",
   "metadata": {},
   "outputs": [
    {
     "data": {
      "text/plain": [
       "'Contact me As Soon As Possible I am going to sleep, Good Night We can be Best friends forever'"
      ]
     },
     "execution_count": 150,
     "metadata": {},
     "output_type": "execute_result"
    }
   ],
   "source": [
    "sentence = ' '.join(iii)\n",
    "sentence"
   ]
  },
  {
   "cell_type": "markdown",
   "id": "836cc111-d28b-48f3-bf44-51b3418d7a9e",
   "metadata": {},
   "source": [
    "### Spelling Correction"
   ]
  },
  {
   "cell_type": "code",
   "execution_count": 157,
   "id": "f0d7fe1e-1ba2-4810-b2d4-45109c9a2a5c",
   "metadata": {},
   "outputs": [
    {
     "data": {
      "text/plain": [
       "'i am ran shah and i am student at university'"
      ]
     },
     "execution_count": 157,
     "metadata": {},
     "output_type": "execute_result"
    }
   ],
   "source": [
    "# import library\n",
    "from textblob import TextBlob\n",
    "\n",
    "incorrect_text = \"i am arfan shah and i am stdent at uniersity\"\n",
    "\n",
    "blob = TextBlob(incorrect_text)\n",
    "\n",
    "corrected_text = blob.correct().string\n",
    "corrected_text"
   ]
  },
  {
   "cell_type": "markdown",
   "id": "8dd7f909-fd54-4343-a689-d8e7182e7dbc",
   "metadata": {},
   "source": [
    "### Removing Stop Words"
   ]
  },
  {
   "cell_type": "code",
   "execution_count": null,
   "id": "a71bfb07-2478-4ba5-a694-579a56aef017",
   "metadata": {},
   "outputs": [],
   "source": []
  }
 ],
 "metadata": {
  "kernelspec": {
   "display_name": "Python 3 (ipykernel)",
   "language": "python",
   "name": "python3"
  },
  "language_info": {
   "codemirror_mode": {
    "name": "ipython",
    "version": 3
   },
   "file_extension": ".py",
   "mimetype": "text/x-python",
   "name": "python",
   "nbconvert_exporter": "python",
   "pygments_lexer": "ipython3",
   "version": "3.11.4"
  }
 },
 "nbformat": 4,
 "nbformat_minor": 5
}
