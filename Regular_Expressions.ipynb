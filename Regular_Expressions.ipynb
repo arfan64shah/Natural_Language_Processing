{
 "cells": [
  {
   "cell_type": "code",
   "execution_count": 4,
   "id": "62ac5b8f",
   "metadata": {},
   "outputs": [
    {
     "data": {
      "text/plain": [
       "['03478100064']"
      ]
     },
     "execution_count": 4,
     "metadata": {},
     "output_type": "execute_result"
    }
   ],
   "source": [
    "import re\n",
    "\n",
    "text = '''\n",
    "My name is Arfan Shah and I have recently graduated from University of Central Asia. I did bachelor's in\n",
    "Computer Science from University of Central Asia. My phone number is 03478100064.\n",
    "'''\n",
    "\n",
    "pattern = '\\d{11}'\n",
    "\n",
    "txt = re.findall(pattern, text)\n",
    "txt"
   ]
  },
  {
   "cell_type": "code",
   "execution_count": null,
   "id": "077b6322",
   "metadata": {},
   "outputs": [],
   "source": []
  }
 ],
 "metadata": {
  "kernelspec": {
   "display_name": "Python 3 (ipykernel)",
   "language": "python",
   "name": "python3"
  },
  "language_info": {
   "codemirror_mode": {
    "name": "ipython",
    "version": 3
   },
   "file_extension": ".py",
   "mimetype": "text/x-python",
   "name": "python",
   "nbconvert_exporter": "python",
   "pygments_lexer": "ipython3",
   "version": "3.10.6"
  }
 },
 "nbformat": 4,
 "nbformat_minor": 5
}
