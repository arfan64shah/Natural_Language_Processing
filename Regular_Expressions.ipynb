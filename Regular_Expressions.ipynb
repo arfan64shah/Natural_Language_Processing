{
 "cells": [
  {
   "cell_type": "code",
   "execution_count": 1,
   "id": "a2e73c2f",
   "metadata": {},
   "outputs": [
    {
     "data": {
      "text/plain": [
       "['03478100064', '(999)-444-1234']"
      ]
     },
     "execution_count": 1,
     "metadata": {},
     "output_type": "execute_result"
    }
   ],
   "source": [
    "import re\n",
    "\n",
    "text = '''\n",
    "My name is Arfan Shah and I have recently graduated from University of Central Asia. I did bachelor's in\n",
    "Computer Science from University of Central Asia. My phone number is 03478100064.  My another phone number\n",
    "is (999)-444-1234.\n",
    "'''\n",
    "\n",
    "pattern = '\\d{11}|\\(\\d{3}\\)-\\d{3}-\\d{4}'\n",
    "\n",
    "txt = re.findall(pattern, text)\n",
    "txt"
   ]
  },
  {
   "cell_type": "code",
   "execution_count": 2,
   "id": "9089e799",
   "metadata": {},
   "outputs": [
    {
     "data": {
      "text/plain": [
       "['(999)-444-1234']"
      ]
     },
     "execution_count": 2,
     "metadata": {},
     "output_type": "execute_result"
    }
   ],
   "source": [
    "pat = '\\(\\d{3}\\)-\\d{3}-\\d{4}'\n",
    "\n",
    "re.findall(pat, text)\n"
   ]
  },
  {
   "cell_type": "code",
   "execution_count": 54,
   "id": "cbd1cf1b-9666-4459-bb43-139ebecc2479",
   "metadata": {},
   "outputs": [
    {
     "name": "stdout",
     "output_type": "stream",
     "text": [
      "['qwer@gmail.com.', 'arfan.shah@aku.edu', 'arfan-shah@aku.edu', 'arfan_shah@aku.edu', 'arfan64shah@aku.edu', 'arfan.shah@alumni.ucentralasia.org']\n"
     ]
    }
   ],
   "source": [
    "# new text to find regular expressions\n",
    "text = \"\"\"\n",
    "my name is arfan shah and this is my contact number 03478100064. \n",
    "this is my gmail account: qwer@gmail.com. my another number is (123)-333-2222. i am 47 years old. arfan\n",
    "arfan.shah@aku.edu\n",
    "arfan-shah@aku.edu\n",
    "arfan_shah@aku.edu\n",
    "arfan64shah@aku.edu\n",
    "arfan.shah@alumni.ucentralasia.org\n",
    "(234)-567-8989\n",
    "\"\"\"\n",
    "\n",
    "# pattern for 11 digits of phone number\n",
    "pattern1 = '\\d{11}'\n",
    "\n",
    "# pattern for phones number which contains hyphens\n",
    "pattern2 = '\\(\\d{3}\\)-\\d{3}-\\d{4}'\n",
    "\n",
    "# pattern for gmail\n",
    "pattern3 = '\\S*@\\w*.\\S*'\n",
    "\n",
    "\n",
    "expression = re.findall(pattern3, text)\n",
    "print(expression)"
   ]
  },
  {
   "cell_type": "code",
   "execution_count": 65,
   "id": "ee36dbf5-d9c1-4059-b8fe-dd68a2a56898",
   "metadata": {},
   "outputs": [],
   "source": [
    "# iterate into expression list and mention which email is it \n",
    "for x in expression:\n",
    "    if (re.findall('\\S@gmail.\\S', x) == x):\n",
    "        print(\"This email belongs to GMAIL\")"
   ]
  },
  {
   "cell_type": "code",
   "execution_count": null,
   "id": "d085407e",
   "metadata": {},
   "outputs": [],
   "source": [
    "# take some text from tesla and then make regular expressions\n"
   ]
  },
  {
   "cell_type": "code",
   "execution_count": null,
   "id": "bfa43fe4-e553-4191-8c17-2d5305c5ccb2",
   "metadata": {},
   "outputs": [],
   "source": []
  }
 ],
 "metadata": {
  "kernelspec": {
   "display_name": "Python 3 (ipykernel)",
   "language": "python",
   "name": "python3"
  },
  "language_info": {
   "codemirror_mode": {
    "name": "ipython",
    "version": 3
   },
   "file_extension": ".py",
   "mimetype": "text/x-python",
   "name": "python",
   "nbconvert_exporter": "python",
   "pygments_lexer": "ipython3",
   "version": "3.11.4"
  }
 },
 "nbformat": 4,
 "nbformat_minor": 5
}
