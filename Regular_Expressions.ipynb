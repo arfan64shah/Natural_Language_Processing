{
 "cells": [
  {
   "cell_type": "code",
   "execution_count": 10,
   "id": "a2e73c2f",
   "metadata": {},
   "outputs": [
    {
     "data": {
      "text/plain": [
       "['03478100064', '(999)-444-1234']"
      ]
     },
     "execution_count": 10,
     "metadata": {},
     "output_type": "execute_result"
    }
   ],
   "source": [
    "import re\n",
    "\n",
    "text = '''\n",
    "My name is Arfan Shah and I have recently graduated from University of Central Asia. I did bachelor's in\n",
    "Computer Science from University of Central Asia. My phone number is 03478100064.  My another phone number\n",
    "is (999)-444-1234.\n",
    "'''\n",
    "\n",
    "pattern = '\\d{11}|\\(\\d{3}\\)-\\d{3}-\\d{4}'\n",
    "\n",
    "txt = re.findall(pattern, text)\n",
    "txt"
   ]
  },
  {
   "cell_type": "code",
   "execution_count": 7,
   "id": "9089e799",
   "metadata": {},
   "outputs": [
    {
     "data": {
      "text/plain": [
       "['(999)-444-1234']"
      ]
     },
     "execution_count": 7,
     "metadata": {},
     "output_type": "execute_result"
    }
   ],
   "source": [
    "pat = '\\(\\d{3}\\)-\\d{3}-\\d{4}'\n",
    "\n",
    "re.findall(pat, text)\n"
   ]
  },
  {
   "cell_type": "code",
   "execution_count": null,
   "id": "d085407e",
   "metadata": {},
   "outputs": [],
   "source": []
  }
 ],
 "metadata": {
  "kernelspec": {
   "display_name": "Python 3 (ipykernel)",
   "language": "python",
   "name": "python3"
  },
  "language_info": {
   "codemirror_mode": {
    "name": "ipython",
    "version": 3
   },
   "file_extension": ".py",
   "mimetype": "text/x-python",
   "name": "python",
   "nbconvert_exporter": "python",
   "pygments_lexer": "ipython3",
   "version": "3.10.6"
  }
 },
 "nbformat": 4,
 "nbformat_minor": 5
}
